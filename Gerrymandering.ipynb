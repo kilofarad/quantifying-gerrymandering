{
  "nbformat": 4,
  "nbformat_minor": 0,
  "metadata": {
    "colab": {
      "name": "Gerrymandering.ipynb",
      "version": "0.3.2",
      "provenance": []
    },
    "language_info": {
      "codemirror_mode": {
        "name": "ipython",
        "version": 3
      },
      "file_extension": ".py",
      "mimetype": "text/x-python",
      "name": "python",
      "nbconvert_exporter": "python",
      "pygments_lexer": "ipython3",
      "version": "3.6.2"
    },
    "kernelspec": {
      "display_name": "Python 3",
      "language": "python",
      "name": "python3"
    }
  },
  "cells": [
    {
      "cell_type": "code",
      "metadata": {
        "id": "nHlMnilybKag",
        "colab_type": "code",
        "outputId": "aa25ad87-5378-4bf2-fd6c-916a30cabea7",
        "colab": {
          "base_uri": "https://localhost:8080/",
          "height": 361
        }
      },
      "source": [
        "import networkx as nx\n",
        "import os\n",
        "G = nx.read_gpickle(os.path.join((os.getcwd()),\"graph.pickle\"))"
      ],
      "execution_count": 0,
      "outputs": [
        {
          "output_type": "error",
          "ename": "FileNotFoundError",
          "evalue": "ignored",
          "traceback": [
            "\u001b[0;31m---------------------------------------------------------------------------\u001b[0m",
            "\u001b[0;31mFileNotFoundError\u001b[0m                         Traceback (most recent call last)",
            "\u001b[0;32m<ipython-input-3-c6433d861a31>\u001b[0m in \u001b[0;36m<module>\u001b[0;34m()\u001b[0m\n\u001b[1;32m      1\u001b[0m \u001b[0;32mimport\u001b[0m \u001b[0mnetworkx\u001b[0m \u001b[0;32mas\u001b[0m \u001b[0mnx\u001b[0m\u001b[0;34m\u001b[0m\u001b[0;34m\u001b[0m\u001b[0m\n\u001b[1;32m      2\u001b[0m \u001b[0;32mimport\u001b[0m \u001b[0mos\u001b[0m\u001b[0;34m\u001b[0m\u001b[0;34m\u001b[0m\u001b[0m\n\u001b[0;32m----> 3\u001b[0;31m \u001b[0mG\u001b[0m \u001b[0;34m=\u001b[0m \u001b[0mnx\u001b[0m\u001b[0;34m.\u001b[0m\u001b[0mread_gpickle\u001b[0m\u001b[0;34m(\u001b[0m\u001b[0mos\u001b[0m\u001b[0;34m.\u001b[0m\u001b[0mpath\u001b[0m\u001b[0;34m.\u001b[0m\u001b[0mjoin\u001b[0m\u001b[0;34m(\u001b[0m\u001b[0;34m(\u001b[0m\u001b[0mos\u001b[0m\u001b[0;34m.\u001b[0m\u001b[0mgetcwd\u001b[0m\u001b[0;34m(\u001b[0m\u001b[0;34m)\u001b[0m\u001b[0;34m)\u001b[0m\u001b[0;34m,\u001b[0m\u001b[0;34m\"graph.pickle\"\u001b[0m\u001b[0;34m)\u001b[0m\u001b[0;34m)\u001b[0m\u001b[0;34m\u001b[0m\u001b[0;34m\u001b[0m\u001b[0m\n\u001b[0m",
            "\u001b[0;32m</usr/local/lib/python3.6/dist-packages/decorator.py:decorator-gen-710>\u001b[0m in \u001b[0;36mread_gpickle\u001b[0;34m(path)\u001b[0m\n",
            "\u001b[0;32m/usr/local/lib/python3.6/dist-packages/networkx/utils/decorators.py\u001b[0m in \u001b[0;36m_open_file\u001b[0;34m(func_to_be_decorated, *args, **kwargs)\u001b[0m\n\u001b[1;32m    212\u001b[0m         \u001b[0;32mif\u001b[0m \u001b[0mis_string_like\u001b[0m\u001b[0;34m(\u001b[0m\u001b[0mpath\u001b[0m\u001b[0;34m)\u001b[0m\u001b[0;34m:\u001b[0m\u001b[0;34m\u001b[0m\u001b[0;34m\u001b[0m\u001b[0m\n\u001b[1;32m    213\u001b[0m             \u001b[0mext\u001b[0m \u001b[0;34m=\u001b[0m \u001b[0msplitext\u001b[0m\u001b[0;34m(\u001b[0m\u001b[0mpath\u001b[0m\u001b[0;34m)\u001b[0m\u001b[0;34m[\u001b[0m\u001b[0;36m1\u001b[0m\u001b[0;34m]\u001b[0m\u001b[0;34m\u001b[0m\u001b[0;34m\u001b[0m\u001b[0m\n\u001b[0;32m--> 214\u001b[0;31m             \u001b[0mfobj\u001b[0m \u001b[0;34m=\u001b[0m \u001b[0m_dispatch_dict\u001b[0m\u001b[0;34m[\u001b[0m\u001b[0mext\u001b[0m\u001b[0;34m]\u001b[0m\u001b[0;34m(\u001b[0m\u001b[0mpath\u001b[0m\u001b[0;34m,\u001b[0m \u001b[0mmode\u001b[0m\u001b[0;34m=\u001b[0m\u001b[0mmode\u001b[0m\u001b[0;34m)\u001b[0m\u001b[0;34m\u001b[0m\u001b[0;34m\u001b[0m\u001b[0m\n\u001b[0m\u001b[1;32m    215\u001b[0m             \u001b[0mclose_fobj\u001b[0m \u001b[0;34m=\u001b[0m \u001b[0;32mTrue\u001b[0m\u001b[0;34m\u001b[0m\u001b[0;34m\u001b[0m\u001b[0m\n\u001b[1;32m    216\u001b[0m         \u001b[0;32melif\u001b[0m \u001b[0mhasattr\u001b[0m\u001b[0;34m(\u001b[0m\u001b[0mpath\u001b[0m\u001b[0;34m,\u001b[0m \u001b[0;34m'read'\u001b[0m\u001b[0;34m)\u001b[0m\u001b[0;34m:\u001b[0m\u001b[0;34m\u001b[0m\u001b[0;34m\u001b[0m\u001b[0m\n",
            "\u001b[0;31mFileNotFoundError\u001b[0m: [Errno 2] No such file or directory: '/content/graph.pickle'"
          ]
        }
      ]
    },
    {
      "cell_type": "code",
      "metadata": {
        "id": "ULSlFbNDbKap",
        "colab_type": "code",
        "colab": {}
      },
      "source": [
        "def calculate_area(Graph, district):\n",
        "    total_area = 0 \n",
        "    for i in G.nodes:\n",
        "        if G.nodes[i]['district'] == 1:\n",
        "            total_area += G.nodes[i]['area']\n",
        "\n",
        "    return total_area"
      ],
      "execution_count": 0,
      "outputs": []
    },
    {
      "cell_type": "code",
      "metadata": {
        "id": "n2kjSO5mbKau",
        "colab_type": "code",
        "colab": {}
      },
      "source": [
        "def calculate_perimeter(Graph, district):\n",
        "    visited = set()\n",
        "    total_perimeter = 0\n",
        "    for i in G.nodes:\n",
        "        if G.nodes[i]['district'] == district:\n",
        "            for neighbor in G[i]:\n",
        "                if ((G.nodes[neighbor]['district'] != district) \n",
        "                    and ((i, neighbor) not in visited)):\n",
        "\n",
        "                    total_perimeter += G[i][neighbor]['length']\n",
        "    \n",
        "    return total_perimeter"
      ],
      "execution_count": 0,
      "outputs": []
    },
    {
      "cell_type": "code",
      "metadata": {
        "id": "Zd_REELCbKaz",
        "colab_type": "code",
        "colab": {}
      },
      "source": [
        "def isoperimetric_score(G, districts):\n",
        "    score = 0\n",
        "    for i in districts:\n",
        "        score += pow(calculate_perimeter(G,i),2) / calculate_area(G,i)\n",
        "    \n",
        "    return score"
      ],
      "execution_count": 0,
      "outputs": []
    },
    {
      "cell_type": "code",
      "metadata": {
        "id": "kQtpr9LtbKa3",
        "colab_type": "code",
        "colab": {}
      },
      "source": [
        "def population_score(G, districts, population_total):\n",
        "    population_ideal = population_total / len(districts)\n",
        "    score = 0\n",
        "    pops = {i:0 for i in districts}\n",
        "    \n",
        "    for i in pops.values():\n",
        "        score += pow(i/population_ideal - 1, 2)\n",
        "    \n",
        "    return pow(score, 1/2)"
      ],
      "execution_count": 0,
      "outputs": []
    },
    {
      "cell_type": "code",
      "metadata": {
        "id": "ZXsnDG9GbKa8",
        "colab_type": "code",
        "colab": {}
      },
      "source": [
        "def calculate_score(G,districts,population_total):\n",
        "    return isoperimetric_score(G,districts) + population_score(G,districts,population_total)"
      ],
      "execution_count": 0,
      "outputs": []
    },
    {
      "cell_type": "code",
      "metadata": {
        "id": "6p_QQunjbKbA",
        "colab_type": "code",
        "colab": {}
      },
      "source": [
        "def district_connect(graph,n_districts):\n",
        "    district_set = []\n",
        "    uncon = []\n",
        "    for x in range(n_districts):\n",
        "        district_set.append([i for i in G if G.node[i]['district'] == x + 1]) \n",
        "    \n",
        "    for x in range(len(district_set)):\n",
        "         if nx.is_connected(nx.subgraph(G,district_set[x])) == False:\n",
        "                return False\n",
        "    return True"
      ],
      "execution_count": 0,
      "outputs": []
    },
    {
      "cell_type": "code",
      "metadata": {
        "id": "BFdoaHw4bKbE",
        "colab_type": "code",
        "colab": {}
      },
      "source": [
        "import numpy as np\n",
        "import math\n",
        "import copy \n",
        "\n",
        "def find_conflicted(G):\n",
        "    conflicted = []\n",
        "    for e in G.edges():\n",
        "        if G.node[e[0]]['district'] != G.node[e[1]]['district']:\n",
        "            conflicted.append(e)\n",
        "    \n",
        "    return conflicted\n",
        "\n",
        "def transition(G, n_districts, beta, population_total):\n",
        "    conflicted = find_conflicted(G)\n",
        "    new_G = copy.deepcopy(G)\n",
        "    \n",
        "    for count in range(1):\n",
        "        new_G = copy.deepcopy(G)\n",
        "        edge = conflicted[random.randint(0,len(conflicted)-1)]\n",
        "        if np.random.uniform() < 0.5:\n",
        "            new_G.node[edge[0]]['district'] = new_G.node[edge[1]]['district']\n",
        "        else:\n",
        "            new_G.node[edge[1]]['district'] = new_G.node[edge[0]]['district']\n",
        "        if district_connect(new_G,n_districts):\n",
        "            score_old = calculate_score(G,list(range(n_districts)),population_total)\n",
        "            score_new = calculate_score(new_G,list(range(n_districts)),population_total)\n",
        "            p = min(1, (len(conflicted)/len(find_conflicted(new_G))*math.exp(-beta*(score_new-score_old)))\n",
        "            if np.random.uniform() < p:\n",
        "                return new_G\n",
        "    \n",
        "    return G"
      ],
      "execution_count": 0,
      "outputs": []
    },
    {
      "cell_type": "code",
      "metadata": {
        "id": "1DpSNUPebKbJ",
        "colab_type": "code",
        "outputId": "de7f1541-248f-43c5-fc5a-eaedc2abae2c",
        "colab": {}
      },
      "source": [
        "district_size = 2 \n",
        "beta = 0\n",
        "population_total = 0\n",
        "n_plans = 0\n",
        "iterations = 0\n",
        "\n",
        "plans = []\n",
        "\n",
        "for i in range(n_plans):\n",
        "    if i < n_plans * 0.3:\n",
        "      beta = 0:\n",
        "    elif i < nplans * 0.8:\n",
        "      beta = beta + 1/(nplans*0.5)\n",
        "      if beta > 1:\n",
        "        beta = 1\n",
        "    else:\n",
        "      beta = 1\n",
        "    for x in range(iterations):\n",
        "        G = transition(G, district_size, beta, population_total)\n",
        "    plans.append(G)"
      ],
      "execution_count": 0,
      "outputs": [
        {
          "output_type": "stream",
          "text": [
            "[1, 2, 3, 4, 5, 6, 7, 8, 9, 10, 11, 12, 13, 14, 15, 16, 17, 18, 19]\n"
          ],
          "name": "stdout"
        }
      ]
    },
    {
      "cell_type": "code",
      "metadata": {
        "id": "aOZM0ofu_Pbd",
        "colab_type": "code",
        "colab": {}
      },
      "source": [
        "def outcome_wins(graph,n_district):\n",
        "    for x in range(n_district):\n",
        "        district_set.append([i for i in G if G.node[i]['district'] == x + 1])\n",
        "    outcome = [[0,0]] * n_district\n",
        "    for x in range(n_district):\n",
        "        for node in district_set[x]:\n",
        "            outcome[x][0] += graph.node[node]['democratic_votes']\n",
        "            outcome[x][1] += graph.node[node]['republican_votes']\n",
        "    dem_win = 0\n",
        "    for x in range(len(outcome)):\n",
        "        if outcome[x][0] > outcome[x][1]:\n",
        "            dem_win += 1\n",
        "    \n",
        "    return dem_win\n",
        "  \n",
        "def outcome_votes(graph,n_district):\n",
        "    for x in range(n_district):\n",
        "        district_set.append([i for i in G if G.node[i]['district'] == x + 1])\n",
        "    outcome = [[0,0]] * n_district\n",
        "    for x in range(n_district):\n",
        "        for node in district_set[x]:\n",
        "            outcome[x][0] += graph.node[node]['democratic_votes']\n",
        "            outcome[x][1] += graph.node[node]['republican_votes']\n",
        "    dem_win = 0\n",
        "    for x in range(len(outcome)):\n",
        "        if outcome[x][0] > outcome[x][1]:\n",
        "            dem_win += 1\n",
        "    \n",
        "    return outcome"
      ],
      "execution_count": 0,
      "outputs": []
    },
    {
      "cell_type": "code",
      "metadata": {
        "id": "whjDnbuYSyO0",
        "colab_type": "code",
        "colab": {}
      },
      "source": [
        "def create_mean(outcomes):\n",
        "  total_dem = {}\n",
        "  count = len(outcomes)\n",
        "  for districts in outcomes:\n",
        "    print(districts)\n",
        "    x = 0\n",
        "    for district in districts:\n",
        "      print(district)\n",
        "      for votes in district:\n",
        "        print(votes)\n",
        "        total_dem[x] += votes[0]\n",
        "        x += 1\n",
        "  for key, value in total_dem.items():\n",
        "    total_dem[key] = total_dem[key]/count\n",
        "  \n",
        "  return(total_dem)"
      ],
      "execution_count": 0,
      "outputs": []
    },
    {
      "cell_type": "code",
      "metadata": {
        "id": "kQCt7enLU6uz",
        "colab_type": "code",
        "outputId": "0e43649a-cae4-44fb-e73d-a0907b93e71b",
        "colab": {
          "base_uri": "https://localhost:8080/",
          "height": 364
        }
      },
      "source": [
        "outcomes = [ [[1,1],[3,3]] , [[1,1],[3,3]] ]\n",
        "create_mean(outcomes)"
      ],
      "execution_count": 0,
      "outputs": [
        {
          "output_type": "stream",
          "text": [
            "[[1, 1], [3, 3]]\n",
            "[1, 1]\n",
            "1\n"
          ],
          "name": "stdout"
        },
        {
          "output_type": "error",
          "ename": "KeyError",
          "evalue": "ignored",
          "traceback": [
            "\u001b[0;31m---------------------------------------------------------------------------\u001b[0m",
            "\u001b[0;31mKeyError\u001b[0m                                  Traceback (most recent call last)",
            "\u001b[0;32m<ipython-input-14-7deada4c55fc>\u001b[0m in \u001b[0;36m<module>\u001b[0;34m()\u001b[0m\n\u001b[1;32m      1\u001b[0m \u001b[0moutcomes\u001b[0m \u001b[0;34m=\u001b[0m \u001b[0;34m[\u001b[0m \u001b[0;34m[\u001b[0m\u001b[0;34m[\u001b[0m\u001b[0;36m1\u001b[0m\u001b[0;34m,\u001b[0m\u001b[0;36m1\u001b[0m\u001b[0;34m]\u001b[0m\u001b[0;34m,\u001b[0m\u001b[0;34m[\u001b[0m\u001b[0;36m3\u001b[0m\u001b[0;34m,\u001b[0m\u001b[0;36m3\u001b[0m\u001b[0;34m]\u001b[0m\u001b[0;34m]\u001b[0m \u001b[0;34m,\u001b[0m \u001b[0;34m[\u001b[0m\u001b[0;34m[\u001b[0m\u001b[0;36m1\u001b[0m\u001b[0;34m,\u001b[0m\u001b[0;36m1\u001b[0m\u001b[0;34m]\u001b[0m\u001b[0;34m,\u001b[0m\u001b[0;34m[\u001b[0m\u001b[0;36m3\u001b[0m\u001b[0;34m,\u001b[0m\u001b[0;36m3\u001b[0m\u001b[0;34m]\u001b[0m\u001b[0;34m]\u001b[0m \u001b[0;34m]\u001b[0m\u001b[0;34m\u001b[0m\u001b[0;34m\u001b[0m\u001b[0m\n\u001b[0;32m----> 2\u001b[0;31m \u001b[0mcreate_mean\u001b[0m\u001b[0;34m(\u001b[0m\u001b[0moutcomes\u001b[0m\u001b[0;34m)\u001b[0m\u001b[0;34m\u001b[0m\u001b[0;34m\u001b[0m\u001b[0m\n\u001b[0m",
            "\u001b[0;32m<ipython-input-13-14742a80938f>\u001b[0m in \u001b[0;36mcreate_mean\u001b[0;34m(outcomes)\u001b[0m\n\u001b[1;32m      9\u001b[0m       \u001b[0;32mfor\u001b[0m \u001b[0mvotes\u001b[0m \u001b[0;32min\u001b[0m \u001b[0mdistrict\u001b[0m\u001b[0;34m:\u001b[0m\u001b[0;34m\u001b[0m\u001b[0;34m\u001b[0m\u001b[0m\n\u001b[1;32m     10\u001b[0m         \u001b[0mprint\u001b[0m\u001b[0;34m(\u001b[0m\u001b[0mvotes\u001b[0m\u001b[0;34m)\u001b[0m\u001b[0;34m\u001b[0m\u001b[0;34m\u001b[0m\u001b[0m\n\u001b[0;32m---> 11\u001b[0;31m         \u001b[0mtotal_dem\u001b[0m\u001b[0;34m[\u001b[0m\u001b[0mx\u001b[0m\u001b[0;34m]\u001b[0m \u001b[0;34m+=\u001b[0m \u001b[0mvotes\u001b[0m\u001b[0;34m[\u001b[0m\u001b[0;36m0\u001b[0m\u001b[0;34m]\u001b[0m\u001b[0;34m\u001b[0m\u001b[0;34m\u001b[0m\u001b[0m\n\u001b[0m\u001b[1;32m     12\u001b[0m         \u001b[0mx\u001b[0m \u001b[0;34m+=\u001b[0m \u001b[0;36m1\u001b[0m\u001b[0;34m\u001b[0m\u001b[0;34m\u001b[0m\u001b[0m\n\u001b[1;32m     13\u001b[0m   \u001b[0;32mfor\u001b[0m \u001b[0mkey\u001b[0m\u001b[0;34m,\u001b[0m \u001b[0mvalue\u001b[0m \u001b[0;32min\u001b[0m \u001b[0mtotal_dem\u001b[0m\u001b[0;34m.\u001b[0m\u001b[0mitems\u001b[0m\u001b[0;34m(\u001b[0m\u001b[0;34m)\u001b[0m\u001b[0;34m:\u001b[0m\u001b[0;34m\u001b[0m\u001b[0;34m\u001b[0m\u001b[0m\n",
            "\u001b[0;31mKeyError\u001b[0m: 0"
          ]
        }
      ]
    },
    {
      "cell_type": "code",
      "metadata": {
        "id": "8LvTkQqRg6o2",
        "colab_type": "code",
        "colab": {}
      },
      "source": [
        "import numpy as np\n",
        "import pickle\n",
        "import networkx as nx\n",
        "import os\n",
        "import numpy as np\n",
        "\n",
        "\n",
        "def outcome_wins(graph,n_district):\n",
        "    district_set = []\n",
        "    for x in range(n_district):\n",
        "        district_set.append([i for i in graph if graph.node[i]['district'] == x + 1])\n",
        "    outcome = [[0,0]] * n_district\n",
        "    for x in range(n_district):\n",
        "        for node in district_set[x]:\n",
        "            outcome[x][0] += graph.node[node]['democratic_votes']\n",
        "            outcome[x][1] += graph.node[node]['republican_votes']\n",
        "    dem_win = 0\n",
        "    for x in range(len(outcome)):\n",
        "        if outcome[x][0] > outcome[x][1]:\n",
        "            dem_win += 1\n",
        "    \n",
        "    return dem_win\n",
        "  \n",
        "def get_dem_vote_percent(graph,n_district):\n",
        "    district_set = []\n",
        "    for x in range(n_district):\n",
        "        district_set.append([i for i in graph if graph.nodes[i]['district'] == x + 1])\n",
        "    outcome_dem = [0] * n_district\n",
        "    outcome_rep = [0] * n_district\n",
        "    for x in range(n_district):\n",
        "        for node in district_set[x]:\n",
        "            #print(graph.nodes[node]['democratic_votes'])\n",
        "            #0 if math.isnan(graph.nodes[node]['democratic_votes'] else math.isnan(graph.nodes[node]['democratic_votes'])\n",
        "            if str(graph.nodes[node]['democratic_votes']) != 'nan':\n",
        "                outcome_dem[x] += float(graph.nodes[node]['democratic_votes'])\n",
        "            if str(graph.nodes[node]['republican_votes']) != 'nan':\n",
        "                outcome_rep[x] += float(graph.nodes[node]['republican_votes'])\n",
        "    outcome_dem = np.array(outcome_dem)\n",
        "    outcome_rep = np.array(outcome_rep)\n",
        "    outcome_dem_percent = outcome_dem/(outcome_dem+outcome_rep)\n",
        "    \n",
        "    return outcome_dem_percent\n",
        "\n",
        "def get_mean_dem_vote_percent(graphs):\n",
        "    total_votes = np.array(get_dem_vote_percent(graphs[0],18))\n",
        "    for graph in graphs[1:]:\n",
        "        total_votes += np.array(get_dem_vote_percent(graph,18))\n",
        "    total_votes = total_votes/len(graphs)\n",
        "    return(total_votes)\n",
        "\n",
        "def get_gerry_index(graph, n_district, mean_dem_vote_percent):\n",
        "    dem_percents = np.array(get_dem_vote_percent(graph, n_district))\n",
        "    dem_percents = (mean_dem_vote_percent - dem_percents)**2\n",
        "    gerry_index = (np.sum(dem_percents))**0.5\n",
        "    return(gerry_index)\n",
        "\n",
        "def get_graphs(directory):\n",
        "    graphs = []\n",
        "    for filename in os.listdir(directory):\n",
        "        if filename.endswith(\".pickle\"):\n",
        "            graph_to_add = nx.read_gpickle(directory+filename)\n",
        "            #print(type(graph_to_add))\n",
        "            graphs.append(graph_to_add)\n",
        "    return(graphs)\n",
        "\n",
        "def get_all_gerry_indices(directory = 'plans/', n_district = 18):\n",
        "    graphs = get_graphs(directory)\n",
        "    mean_dem_vote_percent = get_mean_dem_vote_percent(graphs)\n",
        "    gerry_indices = []\n",
        "    for graph in graphs:\n",
        "        gi = get_gerry_index(graph, n_district, mean_dem_vote_percent)\n",
        "        gerry_indices.append(gi)\n",
        "    return(gerry_indices)\n",
        "    \n",
        "        "
      ],
      "execution_count": 0,
      "outputs": []
    },
    {
      "cell_type": "code",
      "metadata": {
        "id": "3W08iOgchIgZ",
        "colab_type": "code",
        "colab": {}
      },
      "source": [
        "gerry_indices = get_all_gerry_indices()\n",
        "gerry_indices"
      ],
      "execution_count": 0,
      "outputs": []
    }
  ]
}