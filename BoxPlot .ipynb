{
 "cells": [
  {
   "cell_type": "code",
   "execution_count": 6,
   "metadata": {
    "collapsed": true
   },
   "outputs": [],
   "source": [
    "def get_dem_vote_percent(graph,n_district):\n",
    "    district_set = []\n",
    "    for x in range(n_district):\n",
    "        district_set.append([i for i in graph if graph.nodes[i]['district'] == x + 1])\n",
    "    outcome_dem = [0] * n_district\n",
    "    outcome_rep = [0] * n_district\n",
    "    for x in range(n_district):\n",
    "        for node in district_set[x]:\n",
    "            #print(graph.nodes[node]['democratic_votes'])\n",
    "            #0 if math.isnan(graph.nodes[node]['democratic_votes'] else math.isnan(graph.nodes[node]['democratic_votes'])\n",
    "            if str(graph.nodes[node]['democratic_votes']) != 'nan':\n",
    "                outcome_dem[x] += float(graph.nodes[node]['democratic_votes'])\n",
    "            if str(graph.nodes[node]['republican_votes']) != 'nan':\n",
    "                outcome_rep[x] += float(graph.nodes[node]['republican_votes'])\n",
    "    outcome_dem = np.array(outcome_dem)\n",
    "    outcome_rep = np.array(outcome_rep)\n",
    "    outcome_dem_percent = outcome_dem/(outcome_dem+outcome_rep)\n",
    "    \n",
    "    return outcome_dem_percent\n",
    "\n",
    "def get_mean_dem_vote_percent(graphs):\n",
    "    total_votes = np.array(get_dem_vote_percent(graphs[0],18))\n",
    "    for graph in graphs[1:]:\n",
    "        total_votes += np.array(get_dem_vote_percent(graph,18))\n",
    "    total_votes = total_votes/len(graphs)\n",
    "    return(total_votes)\n"
   ]
  },
  {
   "cell_type": "code",
   "execution_count": 10,
   "metadata": {},
   "outputs": [],
   "source": [
    "import matplotlib.pyplot as plt\n",
    "import numpy as np\n",
    "from matplotlib.patches import Polygon\n",
    "import statistics\n",
    "import os\n",
    "import networkx as nx \n",
    "\n",
    "pickle_dir = os.listdir(\"./nopoly_plans\")\n",
    "plans = []\n",
    "for i in pickle_dir:\n",
    "    plans.append(nx.read_gpickle(os.path.join(\"./nopoly_plans\",i)))"
   ]
  },
  {
   "cell_type": "code",
   "execution_count": 11,
   "metadata": {
    "collapsed": true
   },
   "outputs": [],
   "source": [
    "outcome = []\n",
    "for graph in plans:\n",
    "    outcome.append(get_dem_vote_percent(graph,18))\n",
    "\n",
    "outcome_by_district = []\n",
    "for i in range(18):\n",
    "    outcome_by_district.append([])\n",
    "for i in range(len(outcome)):\n",
    "    for j in range(len(outcome[i])):\n",
    "        outcome_by_district[j].append(outcome[i][j])\n",
    "\n",
    "def sort_mean(elem):\n",
    "    return statistics.mean(elem)\n",
    "\n",
    "outcome_by_district.sort(key=sort_mean)        "
   ]
  },
  {
   "cell_type": "code",
   "execution_count": 30,
   "metadata": {},
   "outputs": [],
   "source": [
    "new_graph = nx.read_gpickle(\"2018plan.pickle\")\n",
    "new_outcome = get_dem_vote_percent(new_graph,18)\n",
    "new_outcome.sort()"
   ]
  },
  {
   "cell_type": "code",
   "execution_count": 33,
   "metadata": {},
   "outputs": [
    {
     "data": {
      "image/png": "[encoded data removed]",
      "text/plain": [
       "<matplotlib.figure.Figure at 0x2197683ecf8>"
      ]
     },
     "metadata": {
      "needs_background": "light"
     },
     "output_type": "display_data"
    }
   ],
   "source": [
    "import numpy as np\n",
    "\n",
    "flierprops = dict(marker='o', markerfacecolor='green', markersize=1,\n",
    "                  linestyle='none')\n",
    "fig, ax = plt.subplots()\n",
    "ax.boxplot(outcome_by_district, flierprops = flierprops)\n",
    "plt.axhline(0.5)\n",
    "x = [i+1 for i in list(range(18))]\n",
    "plt.scatter(x,new_outcome)\n",
    "plt.title('Distribution of ')\n",
    "plt.xlabel('District', fontsize=10)\n",
    "plt.ylabel('Percentage of Democratic voters', fontsize=10)\n",
    "\n",
    "plt.show()"
   ]
  },
  {
   "cell_type": "code",
   "execution_count": 4,
   "metadata": {},
   "outputs": [
    {
     "name": "stdout",
     "output_type": "stream",
     "text": [
      "[1, 2, 3, 4, 5, 6, 7, 8, 9, 10, 11, 12, 13, 14, 15, 16, 17, 18]\n"
     ]
    }
   ],
   "source": [
    "x = [i+1 for i in list(range(18))]\n",
    "print(x)"
   ]
  },
  {
   "cell_type": "code",
   "execution_count": null,
   "metadata": {
    "collapsed": true
   },
   "outputs": [],
   "source": []
  }
 ],
 "metadata": {
  "kernelspec": {
   "display_name": "Python 3",
   "language": "python",
   "name": "python3"
  },
  "language_info": {
   "codemirror_mode": {
    "name": "ipython",
    "version": 3
   },
   "file_extension": ".py",
   "mimetype": "text/x-python",
   "name": "python",
   "nbconvert_exporter": "python",
   "pygments_lexer": "ipython3",
   "version": "3.6.2"
  }
 },
 "nbformat": 4,
 "nbformat_minor": 2
}
